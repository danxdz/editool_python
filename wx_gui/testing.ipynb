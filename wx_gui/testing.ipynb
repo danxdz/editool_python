{
 "cells": [
  {
   "cell_type": "code",
   "execution_count": 65,
   "id": "5aedd679",
   "metadata": {},
   "outputs": [
    {
     "name": "stdout",
     "output_type": "stream",
     "text": [
      "Connected to TopSolid\n",
      "718320000 fr-FR\n",
      "1\n",
      "TopSolid'All Valid 09/11/2050 22:59:59 TOPSOLID Floating 0 TOPSOLID 7.18\n",
      "None\n"
     ]
    }
   ],
   "source": [
    "from topsolid_api import TopSolidAPI\n",
    "\n",
    "api = TopSolidAPI()\n",
    "\n",
    "if api.connected:\n",
    "    print(\"Connected to TopSolid\")\n",
    "    \n",
    "    lang = api.get_language()\n",
    "\n",
    "    print(api.ts.get_Version() , lang)\n",
    "\n",
    "    licc = api.ts.Licenses.GetActveLicenses()\n",
    "    print(len(licc))\n",
    "\n",
    "    for l in licc:\n",
    "        print(l.Name, l.Status, l.ExpirationDate, l.LicensedTo, l.LicenseType, l.Module, l.Provider, l.Version)\n",
    "\n",
    "    # Get the current document\n",
    "    doc = api.get_current_project()\n",
    "    print(doc)\n"
   ]
  },
  {
   "cell_type": "code",
   "execution_count": 66,
   "id": "d9f7c579",
   "metadata": {},
   "outputs": [
    {
     "name": "stdout",
     "output_type": "stream",
     "text": [
      "No document open\n"
     ]
    }
   ],
   "source": [
    "from topsolid_api import TopSolidAPI\n",
    "\n",
    "api = TopSolidAPI()\n",
    "\n",
    "#get the current document\n",
    "doc = api.get_current_project()\n",
    "if doc:\n",
    "    print(f\"{doc[1]} - {doc[0].Id}\")\n",
    "else:\n",
    "    print(\"No document open\")"
   ]
  },
  {
   "cell_type": "code",
   "execution_count": 67,
   "id": "8ed797dc",
   "metadata": {},
   "outputs": [
    {
     "name": "stdout",
     "output_type": "stream",
     "text": [
      "editool - 11_4a1f151e-2c58-498e-9385-25b98627e560&2_501\n",
      "Daniel - 11_4dd261d5-15c0-40ed-ae34-348bfa36de05&4_501\n"
     ]
    }
   ],
   "source": [
    "#get open projects\n",
    "projs = api.ts.Pdm.GetOpenProjects(True, True)\n",
    "for d in projs:\n",
    "    name = api.ts.Pdm.GetName(d)\n",
    "    print(f\"{name} - {d.Id}\")"
   ]
  },
  {
   "cell_type": "code",
   "execution_count": 68,
   "id": "f6ab6184",
   "metadata": {},
   "outputs": [],
   "source": [
    "#get open documents\n",
    "docs = api.ts.Documents.GetOpenDocuments()\n",
    "for d in docs:\n",
    "    name = api.get_name(d) # api.ts.Documents.GetName(d)\n",
    "    print(f\"{name} - {d.PdmDocumentId}\")\n"
   ]
  },
  {
   "cell_type": "code",
   "execution_count": 69,
   "id": "39cbe8ec",
   "metadata": {},
   "outputs": [],
   "source": [
    "test = api.get_current_project()\n",
    "if test:\n",
    "    print(f\"{test[1]} - {test[0].Id}\")"
   ]
  },
  {
   "cell_type": "code",
   "execution_count": null,
   "id": "bc326b61",
   "metadata": {},
   "outputs": [],
   "source": [
    "#void CloseAll(bool inAsksUser,bool inSaves)\n",
    "api.ts.Documents.CloseAll(False, False)\n",
    "\n",
    "#void GetConstituents(PdmObjectId inObjectId,out List<PdmObjectId> outFolderIds,out List<PdmObjectId> outDocumentObjectIds)\n",
    "for p in projs:\n",
    "    sd = api.ts.Pdm.GetConstituents(p)\n",
    "    print(sd)\n",
    "    for d in sd:\n",
    "        print(f\"{d[0].Id} - {api.ts.Pdm.GetName(d[0])}\")\n",
    "        for f in d:\n",
    "            print(f\"{f.Id} - {api.ts.Pdm.GetName(f)} - {api.get_type(f)}\")\n",
    "            "
   ]
  }
 ],
 "metadata": {
  "kernelspec": {
   "display_name": "Python 3",
   "language": "python",
   "name": "python3"
  },
  "language_info": {
   "codemirror_mode": {
    "name": "ipython",
    "version": 3
   },
   "file_extension": ".py",
   "mimetype": "text/x-python",
   "name": "python",
   "nbconvert_exporter": "python",
   "pygments_lexer": "ipython3",
   "version": "3.11.4"
  }
 },
 "nbformat": 4,
 "nbformat_minor": 5
}
