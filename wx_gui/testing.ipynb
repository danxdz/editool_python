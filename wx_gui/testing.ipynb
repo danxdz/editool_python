{
 "cells": [
  {
   "cell_type": "code",
   "execution_count": null,
   "id": "5aedd679",
   "metadata": {},
   "outputs": [],
   "source": [
    "from topsolid_api import TopSolidAPI\n",
    "\n",
    "api = TopSolidAPI()\n",
    "\n",
    "if api.connected:\n",
    "    print(\"Connected to TopSolid\")\n",
    "    \n",
    "    lang = api.get_language()\n",
    "\n",
    "    print(api.ts.get_Version() , lang)\n",
    "\n",
    "    licc = api.ts.Licenses.GetActveLicenses()\n",
    "    print(len(licc))\n",
    "\n",
    "    for l in licc:\n",
    "        print(l.Name, l.Status, l.ExpirationDate, l.LicensedTo, l.LicenseType, l.Module, l.Provider, l.Version)\n",
    "\n",
    "    # Get the current document\n",
    "    doc = api.get_current_project()\n",
    "    print(doc)\n"
   ]
  },
  {
   "cell_type": "code",
   "execution_count": null,
   "id": "d9f7c579",
   "metadata": {},
   "outputs": [],
   "source": [
    "from topsolid_api import TopSolidAPI\n",
    "\n",
    "api = TopSolidAPI()\n",
    "\n",
    "#get the current document\n",
    "doc = api.get_current_project()\n",
    "if doc:\n",
    "    print(f\"{doc[1]} - {doc[0].Id}\")\n",
    "else:\n",
    "    print(\"No document open\")"
   ]
  },
  {
   "cell_type": "code",
   "execution_count": null,
   "id": "a9243d01",
   "metadata": {},
   "outputs": [],
   "source": [
    "import os\n",
    "from topsolid_api import TopSolidAPI\n",
    "\n",
    "api = TopSolidAPI()\n",
    "\n",
    "# Search in directory for all toppkg files and import them\n",
    "path = \"C:\\\\Users\\\\user\\\\Downloads\"\n",
    "\n",
    "# List all files in the directory with the .toppkg extension\n",
    "files = [os.path.join(path, f) for f in os.listdir(path) if f.endswith('.TopPkg')]\n",
    "\n",
    "print(len(files))\n",
    "\n",
    "for f in files:\n",
    "    print(f)\n",
    "    api.ts.Pdm.ImportPackageAsReplication (f)\n",
    "\n",
    "\n"
   ]
  },
  {
   "cell_type": "code",
   "execution_count": 1,
   "id": "b19f64ab",
   "metadata": {},
   "outputs": [
    {
     "name": "stdout",
     "output_type": "stream",
     "text": [
      "C:\\Users\\user\\Downloads\\- Dossier fabrication - H auto h .TopPkg\n",
      "C:\\Users\\user\\Downloads\\- Dossier fabrication - H auto.TopPkg\n",
      "C:\\Users\\user\\Downloads\\- Dossier fabrication - H manuel.TopPkg\n"
     ]
    }
   ],
   "source": [
    "import os\n",
    "import wx\n",
    "from topsolid_api import TopSolidAPI\n",
    "\n",
    "api = TopSolidAPI()\n",
    "\n",
    "# Inicializa a aplicação wx\n",
    "app = wx.App(False)\n",
    "\n",
    "# Cria um diálogo para selecionar diretórios\n",
    "dialog = wx.DirDialog(None, \"Selecione a Pasta Contendo os Arquivos .TopPkg\", \"\", wx.DD_DEFAULT_STYLE | wx.DD_DIR_MUST_EXIST)\n",
    "\n",
    "path = \"\"\n",
    "if dialog.ShowModal() == wx.ID_OK:\n",
    "    path = dialog.GetPath()\n",
    "dialog.Destroy()\n",
    "\n",
    "# Verifica se um caminho foi selecionado\n",
    "if path:\n",
    "    # Lista todos os arquivos no diretório com a extensão .TopPkg\n",
    "    files = [os.path.join(path, f) for f in os.listdir(path) if f.endswith('.TopPkg')]\n",
    "\n",
    "    for f in files:\n",
    "        print(f)\n",
    "        api.ts.Pdm.ImportPackageAsReplication(f)\n",
    "else:\n",
    "    print(\"Nenhuma pasta foi selecionada.\")"
   ]
  },
  {
   "cell_type": "code",
   "execution_count": null,
   "id": "8ed797dc",
   "metadata": {},
   "outputs": [],
   "source": [
    "#get open projects\n",
    "projs = api.ts.Pdm.GetOpenProjects(True, True)\n",
    "for d in projs:\n",
    "    name = api.ts.Pdm.GetName(d)\n",
    "    print(f\"{name} - {d.Id}\")"
   ]
  },
  {
   "cell_type": "code",
   "execution_count": null,
   "id": "f6ab6184",
   "metadata": {},
   "outputs": [],
   "source": [
    "#get open documents\n",
    "docs = api.ts.Documents.GetOpenDocuments()\n",
    "for d in docs:\n",
    "    name = api.get_name(d) # api.ts.Documents.GetName(d)\n",
    "    print(f\"{name} - {d.PdmDocumentId}\")\n"
   ]
  },
  {
   "cell_type": "code",
   "execution_count": null,
   "id": "39cbe8ec",
   "metadata": {},
   "outputs": [],
   "source": [
    "test = api.get_current_project()\n",
    "if test:\n",
    "    print(f\"{test[1]} - {test[0].Id}\")"
   ]
  },
  {
   "cell_type": "code",
   "execution_count": null,
   "id": "bc326b61",
   "metadata": {},
   "outputs": [],
   "source": [
    "#void CloseAll(bool inAsksUser,bool inSaves)\n",
    "api.ts.Documents.CloseAll(False, False)\n",
    "\n",
    "#void GetConstituents(PdmObjectId inObjectId,out List<PdmObjectId> outFolderIds,out List<PdmObjectId> outDocumentObjectIds)\n",
    "for p in projs:\n",
    "    sd = api.ts.Pdm.GetConstituents(p)\n",
    "    print(sd)\n",
    "    for d in sd:\n",
    "        print(f\"{d[0].Id} - {api.get_name(d[0])}\")\n",
    "        for f in d:\n",
    "            print(f\"{f.Id} - {api.get_name(f)} - {api.get_type(f)}\")\n",
    "            "
   ]
  },
  {
   "cell_type": "code",
   "execution_count": null,
   "id": "ebd4f31b",
   "metadata": {},
   "outputs": [],
   "source": [
    "all = api.get_constituents(p, True)\n",
    "print(all)"
   ]
  },
  {
   "cell_type": "code",
   "execution_count": null,
   "id": "52778b46",
   "metadata": {},
   "outputs": [],
   "source": [
    "proj = api.get_open_files()\n",
    "for p in proj:\n",
    "    \n",
    "    qs = api.get_Frames(p)"
   ]
  },
  {
   "cell_type": "code",
   "execution_count": null,
   "id": "0515ea1d",
   "metadata": {},
   "outputs": [],
   "source": [
    "for i in range(0, 40):\n",
    "    uop = \"\"\n",
    "    out = \"\"\n",
    "    opt = api.ts.Application.GetImporterFileType(i, uop, out)\n",
    "    print(i, opt, out)\n",
    "    opts = api.get_importer_options(i, True)\n",
    "    for o in opts:\n",
    "        print(o.Key, o.Value)\n"
   ]
  },
  {
   "cell_type": "code",
   "execution_count": null,
   "id": "6eece0e1",
   "metadata": {},
   "outputs": [],
   "source": [
    "a = 123\n",
    "b = 321\n",
    "print(a, b)\n",
    "a = a ^ b\n",
    "print(a, b)\n",
    "b = a ^ b\n",
    "print(a, b)\n",
    "a = a ^ b\n",
    "print(a, b)"
   ]
  }
 ],
 "metadata": {
  "kernelspec": {
   "display_name": "Python 3",
   "language": "python",
   "name": "python3"
  },
  "language_info": {
   "codemirror_mode": {
    "name": "ipython",
    "version": 3
   },
   "file_extension": ".py",
   "mimetype": "text/x-python",
   "name": "python",
   "nbconvert_exporter": "python",
   "pygments_lexer": "ipython3",
   "version": "3.11.4"
  }
 },
 "nbformat": 4,
 "nbformat_minor": 5
}
