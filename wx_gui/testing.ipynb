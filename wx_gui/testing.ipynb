{
 "cells": [
  {
   "cell_type": "code",
   "execution_count": null,
   "id": "5aedd679",
   "metadata": {},
   "outputs": [],
   "source": [
    "from topsolid_api import TopSolidAPI\n",
    "\n",
    "api = TopSolidAPI()\n",
    "\n",
    "if api.connected:\n",
    "    print(\"Connected to TopSolid\")\n",
    "    \n",
    "    lang = api.get_language()\n",
    "\n",
    "    print(api.ts.get_Version() , lang)\n",
    "\n",
    "    licc = api.ts.Licenses.GetActveLicenses()\n",
    "    print(len(licc))\n",
    "\n",
    "    for l in licc:\n",
    "        print(l.Name, l.Status, l.ExpirationDate, l.LicensedTo, l.LicenseType, l.Module, l.Provider, l.Version)\n",
    "\n",
    "    # Get the current document\n",
    "    doc = api.get_current_project()\n",
    "    print(doc)\n"
   ]
  },
  {
   "cell_type": "code",
   "execution_count": null,
   "id": "d9f7c579",
   "metadata": {},
   "outputs": [],
   "source": [
    "from topsolid_api import TopSolidAPI\n",
    "\n",
    "api = TopSolidAPI()\n",
    "\n",
    "#get the current document\n",
    "doc = api.get_current_project()\n",
    "if doc:\n",
    "    print(f\"{doc[1]} - {doc[0].Id}\")\n",
    "else:\n",
    "    print(\"No document open\")"
   ]
  },
  {
   "cell_type": "code",
   "execution_count": null,
   "id": "a9243d01",
   "metadata": {},
   "outputs": [],
   "source": [
    "import os\n",
    "from topsolid_api import TopSolidAPI\n",
    "\n",
    "api = TopSolidAPI()\n",
    "\n",
    "# Search in directory for all toppkg files and import them\n",
    "path = \"C:\\\\Users\\\\user\\\\Downloads\"\n",
    "\n",
    "# List all files in the directory with the .toppkg extension\n",
    "files = [os.path.join(path, f) for f in os.listdir(path) if f.endswith('.TopPkg')]\n",
    "\n",
    "print(len(files))\n",
    "\n",
    "for f in files:\n",
    "    print(f)\n",
    "    api.ts.Pdm.ImportPackageAsReplication (f)\n",
    "\n",
    "\n"
   ]
  },
  {
   "cell_type": "code",
   "execution_count": 1,
   "id": "b19f64ab",
   "metadata": {},
   "outputs": [
    {
     "name": "stdout",
     "output_type": "stream",
     "text": [
      "C:\\Users\\user\\Downloads\\- Dossier fabrication - H auto h .TopPkg\n",
      "C:\\Users\\user\\Downloads\\- Dossier fabrication - H auto.TopPkg\n",
      "C:\\Users\\user\\Downloads\\- Dossier fabrication - H manuel.TopPkg\n"
     ]
    }
   ],
   "source": [
    "import os\n",
    "import wx\n",
    "from topsolid_api import TopSolidAPI\n",
    "\n",
    "api = TopSolidAPI()\n",
    "\n",
    "app = wx.App(False)\n",
    "\n",
    "\n",
    "dialog = wx.DirDialog(None, \"Select the folder containing the .TopPkg files\", \"\", wx.DD_DEFAULT_STYLE | wx.DD_DIR_MUST_EXIST)\n",
    "\n",
    "path = \"\"\n",
    "if dialog.ShowModal() == wx.ID_OK:\n",
    "    path = dialog.GetPath()\n",
    "dialog.Destroy()\n",
    "\n",
    "# Verifica se um caminho foi selecionado\n",
    "if path:\n",
    "    # Lista todos os arquivos no diretório com a extensão .TopPkg\n",
    "    files = [os.path.join(path, f) for f in os.listdir(path) if f.endswith('.TopPkg')]\n",
    "\n",
    "    for f in files:\n",
    "        print(f)\n",
    "        api.ts.Pdm.ImportPackageAsReplication(f)\n",
    "else:\n",
    "    print(\"Nenhuma pasta foi selecionada.\")"
   ]
  },
  {
   "cell_type": "code",
   "execution_count": null,
   "id": "d3be1707",
   "metadata": {},
   "outputs": [],
   "source": [
    "import sys\n",
    "!{sys.executable} -m pip install trimesh\n",
    "!{sys.executable} -m pip install gmsh-sdk\n",
    "\n",
    "\n"
   ]
  },
  {
   "cell_type": "code",
   "execution_count": 1,
   "id": "1f199b4a",
   "metadata": {},
   "outputs": [],
   "source": [
    "import trimesh\n",
    "import warnings\n",
    "warnings.filterwarnings(\"ignore\")"
   ]
  },
  {
   "cell_type": "code",
   "execution_count": 4,
   "id": "15e0f9bc",
   "metadata": {},
   "outputs": [
    {
     "name": "stdout",
     "output_type": "stream",
     "text": [
      "Done\n"
     ]
    }
   ],
   "source": [
    "import trimesh.interfaces\n",
    "\n",
    "\n",
    "mesh = trimesh.Trimesh(**trimesh.interfaces.gmsh.load_gmsh(file_name = \"cube.stp\", gmsh_args = [\n",
    "    (\"Mesh.Algorithm\", 12),\n",
    "    (\"Mesh.CharacteristicLengthFromCurvature\", 20),\n",
    "    (\"General.NumThreads\", 10),\n",
    "    (\"Mesh.MinimumCirclePoints\", 20)]))\n",
    "\n",
    "#print(mesh.volume)\n",
    "#scene = mesh.scene()\n",
    "#scene.show()\n",
    "print(\"Done\")"
   ]
  },
  {
   "cell_type": "code",
   "execution_count": 1,
   "id": "d8ff6ff4",
   "metadata": {},
   "outputs": [
    {
     "data": {
      "text/plain": [
       "1"
      ]
     },
     "execution_count": 1,
     "metadata": {},
     "output_type": "execute_result"
    }
   ],
   "source": [
    "import gmsh\n",
    "import math\n",
    "\n",
    "# Initialize Gmsh\n",
    "gmsh.initialize()\n",
    "gmsh.model.add(\"SlicedModel\")\n",
    "\n",
    "# Load the shape from a file\n",
    "gmsh.model.occ.importShapes(\"cube.stp\")\n",
    "gmsh.model.occ.synchronize()\n",
    "\n",
    "# Get the bounding box of the volume\n",
    "entities = gmsh.model.getEntities(3)\n",
    "bbox = gmsh.model.getBoundingBox(entities[0][0], entities[0][1])\n",
    "xmin, ymin, zmin, xmax, ymax, zmax = bbox\n",
    "\n",
    "# Define constants and parameters\n",
    "N = 5  # Number of slices\n",
    "dir = 0  # Direction: 0 = X, 1 = Y, 2 = Z\n",
    "surf = 0  # Keep only surfaces?\n",
    "\n",
    "dx = xmax - xmin\n",
    "dy = ymax - ymin\n",
    "dz = zmax - zmin\n",
    "L = dz if dir == 0 else dx\n",
    "H = dz if dir == 1 else dy\n",
    "\n",
    "# Create the first cutting plane\n",
    "s = []\n",
    "s.append(gmsh.model.occ.addRectangle(xmin, ymin, zmin, L, H))\n",
    "if dir == 0:\n",
    "    gmsh.model.occ.rotate([(2, s[0])], xmin, ymin, zmin, 0, 1, 0, -math.pi / 2)\n",
    "elif dir == 1:\n",
    "    gmsh.model.occ.rotate([(2, s[0])], xmin, ymin, zmin, 1, 0, 0, math.pi / 2)\n",
    "\n",
    "tx = dx / N if dir == 0 else 0\n",
    "ty = dy / N if dir == 1 else 0\n",
    "tz = dz / N if dir == 2 else 0\n",
    "gmsh.model.occ.translate([(2, s[0])], tx, ty, tz)\n",
    "\n",
    "# Create the other cutting planes\n",
    "for i in range(1, N - 1):\n",
    "    new_s = gmsh.model.occ.copy([(2, s[0])])[0][1]\n",
    "    gmsh.model.occ.translate([(2, new_s)], i * tx, i * ty, i * tz)\n",
    "    s.append(new_s)\n",
    "\n",
    "# Fragment (i.e. intersect) the volume with all the cutting planes\n",
    "volumes = gmsh.model.occ.fragment([(3, entities[0][1])], [(2, surf) for surf in s])\n",
    "gmsh.model.occ.synchronize()\n",
    "\n",
    "# Remove all the surfaces that are not on the boundary of a volume\n",
    "gmsh.model.occ.remove([(2, surf) for surf in s])\n",
    "gmsh.model.occ.synchronize()\n",
    "\n",
    "if surf:\n",
    "    # If we want to only keep the surfaces, retrieve the surfaces in bounding boxes around the cutting planes\n",
    "    eps = 1e-4\n",
    "    s = []\n",
    "    for i in range(1, N):\n",
    "        xx = xmin if dir == 0 else xmax\n",
    "        yy = ymin if dir == 1 else ymax\n",
    "        zz = zmin if dir == 2 else zmax\n",
    "        s += gmsh.model.getEntitiesInBoundingBox(\n",
    "            xmin - eps + i * tx, ymin - eps + i * ty, zmin - eps + i * tz,\n",
    "            xx + eps + i * tx, yy + eps + i * ty, zz + eps + i * tz, 2\n",
    "        )\n",
    "    # Remove all the other entities\n",
    "    all_surfaces = gmsh.model.getEntities(2)\n",
    "    dels = [surf for surf in all_surfaces if surf not in s]\n",
    "    gmsh.model.occ.remove(dels)\n",
    "    gmsh.model.occ.remove(gmsh.model.getEntities(3))\n",
    "    gmsh.model.occ.remove(gmsh.model.getEntities(1))\n",
    "    gmsh.model.occ.remove(gmsh.model.getEntities(0))\n",
    "    gmsh.model.occ.synchronize()\n",
    "\n",
    "# Specify a global mesh size\n",
    "gmsh.option.setNumber(\"Mesh.MeshSizeMin\", 3)\n",
    "gmsh.option.setNumber(\"Mesh.MeshSizeMax\", 3)\n",
    "\n",
    "# Generate the mesh\n",
    "gmsh.model.mesh.generate(3)\n",
    "\n",
    "# Save the mesh to a file\n",
    "gmsh.write(\"sliced_model.msh\")\n",
    "\n",
    "# Finalize Gmsh\n",
    "gmsh.finalize()\n",
    "\n",
    "# Open the mesh in Gmsh GUI for visualization\n",
    "import os\n",
    "os.system(\"gmsh sliced_model.msh\")"
   ]
  },
  {
   "cell_type": "code",
   "execution_count": 3,
   "id": "2593862e",
   "metadata": {},
   "outputs": [
    {
     "ename": "NameError",
     "evalue": "name 'mesh' is not defined",
     "output_type": "error",
     "traceback": [
      "\u001b[1;31m---------------------------------------------------------------------------\u001b[0m",
      "\u001b[1;31mNameError\u001b[0m                                 Traceback (most recent call last)",
      "Cell \u001b[1;32mIn[3], line 1\u001b[0m\n\u001b[1;32m----> 1\u001b[0m modelDim \u001b[38;5;241m=\u001b[39m \u001b[43mmesh\u001b[49m\u001b[38;5;241m.\u001b[39mextents\n\u001b[0;32m      2\u001b[0m \u001b[38;5;66;03m#get the dimensions of the model\u001b[39;00m\n\u001b[0;32m      3\u001b[0m mDimX \u001b[38;5;241m=\u001b[39m modelDim\u001b[38;5;241m.\u001b[39mitem(\u001b[38;5;241m0\u001b[39m)\n",
      "\u001b[1;31mNameError\u001b[0m: name 'mesh' is not defined"
     ]
    }
   ],
   "source": [
    "\n",
    "\n",
    "modelDim = mesh.extents\n",
    "#get the dimensions of the model\n",
    "mDimX = modelDim.item(0)\n",
    "mDimY = modelDim.item(1)\n",
    "mDimZ = modelDim.item(2)\n",
    "\n",
    "print(mDimX, mDimY, mDimZ, modelDim)"
   ]
  },
  {
   "cell_type": "code",
   "execution_count": null,
   "id": "8ed797dc",
   "metadata": {},
   "outputs": [],
   "source": [
    "#get open projects\n",
    "projs = api.ts.Pdm.GetOpenProjects(True, True)\n",
    "for d in projs:\n",
    "    name = api.ts.Pdm.GetName(d)\n",
    "    print(f\"{name} - {d.Id}\")"
   ]
  },
  {
   "cell_type": "code",
   "execution_count": null,
   "id": "f6ab6184",
   "metadata": {},
   "outputs": [],
   "source": [
    "#get open documents\n",
    "docs = api.ts.Documents.GetOpenDocuments()\n",
    "for d in docs:\n",
    "    name = api.get_name(d) # api.ts.Documents.GetName(d)\n",
    "    print(f\"{name} - {d.PdmDocumentId}\")\n"
   ]
  },
  {
   "cell_type": "code",
   "execution_count": null,
   "id": "39cbe8ec",
   "metadata": {},
   "outputs": [],
   "source": [
    "test = api.get_current_project()\n",
    "if test:\n",
    "    print(f\"{test[1]} - {test[0].Id}\")"
   ]
  },
  {
   "cell_type": "code",
   "execution_count": null,
   "id": "bc326b61",
   "metadata": {},
   "outputs": [],
   "source": [
    "#void CloseAll(bool inAsksUser,bool inSaves)\n",
    "api.ts.Documents.CloseAll(False, False)\n",
    "\n",
    "#void GetConstituents(PdmObjectId inObjectId,out List<PdmObjectId> outFolderIds,out List<PdmObjectId> outDocumentObjectIds)\n",
    "for p in projs:\n",
    "    sd = api.ts.Pdm.GetConstituents(p)\n",
    "    print(sd)\n",
    "    for d in sd:\n",
    "        print(f\"{d[0].Id} - {api.get_name(d[0])}\")\n",
    "        for f in d:\n",
    "            print(f\"{f.Id} - {api.get_name(f)} - {api.get_type(f)}\")\n",
    "            "
   ]
  },
  {
   "cell_type": "code",
   "execution_count": null,
   "id": "ebd4f31b",
   "metadata": {},
   "outputs": [],
   "source": [
    "all = api.get_constituents(p, True)\n",
    "print(all)"
   ]
  },
  {
   "cell_type": "code",
   "execution_count": null,
   "id": "52778b46",
   "metadata": {},
   "outputs": [],
   "source": [
    "proj = api.get_open_files()\n",
    "for p in proj:\n",
    "    \n",
    "    qs = api.get_Frames(p)"
   ]
  },
  {
   "cell_type": "code",
   "execution_count": null,
   "id": "0515ea1d",
   "metadata": {},
   "outputs": [],
   "source": [
    "for i in range(0, 40):\n",
    "    uop = \"\"\n",
    "    out = \"\"\n",
    "    opt = api.ts.Application.GetImporterFileType(i, uop, out)\n",
    "    print(i, opt, out)\n",
    "    opts = api.get_importer_options(i, True)\n",
    "    for o in opts:\n",
    "        print(o.Key, o.Value)\n"
   ]
  },
  {
   "cell_type": "code",
   "execution_count": 4,
   "id": "6eece0e1",
   "metadata": {},
   "outputs": [
    {
     "name": "stdout",
     "output_type": "stream",
     "text": [
      "123 321\n",
      "314 321\n",
      "314 123\n",
      "321 123\n"
     ]
    }
   ],
   "source": [
    "a = 123\n",
    "b = 321\n",
    "print(a, b)\n",
    "a = a ^ b\n",
    "print(a, b)\n",
    "b = a ^ b\n",
    "print(a, b)\n",
    "a = a ^ b\n",
    "print(a, b)"
   ]
  },
  {
   "cell_type": "code",
   "execution_count": 1,
   "id": "db0ce39c",
   "metadata": {},
   "outputs": [
    {
     "data": {
      "text/html": [
       "<div id=\"glowscript\" class=\"glowscript\"></div>"
      ],
      "text/plain": [
       "<IPython.core.display.HTML object>"
      ]
     },
     "metadata": {},
     "output_type": "display_data"
    },
    {
     "data": {
      "application/javascript": "if (typeof Jupyter !== \"undefined\") { window.__context = { glowscript_container: $(\"#glowscript\").removeAttr(\"id\")};}else{ element.textContent = ' ';}",
      "text/plain": [
       "<IPython.core.display.Javascript object>"
      ]
     },
     "metadata": {},
     "output_type": "display_data"
    },
    {
     "data": {
      "application/javascript": "if (typeof Jupyter !== \"undefined\") {require.undef(\"nbextensions/vpython_libraries/glow.min\");}else{element.textContent = ' ';}",
      "text/plain": [
       "<IPython.core.display.Javascript object>"
      ]
     },
     "metadata": {},
     "output_type": "display_data"
    },
    {
     "data": {
      "application/javascript": "if (typeof Jupyter !== \"undefined\") {require.undef(\"nbextensions/vpython_libraries/glowcomm\");}else{element.textContent = ' ';}",
      "text/plain": [
       "<IPython.core.display.Javascript object>"
      ]
     },
     "metadata": {},
     "output_type": "display_data"
    },
    {
     "data": {
      "application/javascript": "if (typeof Jupyter !== \"undefined\") {require.undef(\"nbextensions/vpython_libraries/jquery-ui.custom.min\");}else{element.textContent = ' ';}",
      "text/plain": [
       "<IPython.core.display.Javascript object>"
      ]
     },
     "metadata": {},
     "output_type": "display_data"
    },
    {
     "data": {
      "application/javascript": "if (typeof Jupyter !== \"undefined\") {require([\"nbextensions/vpython_libraries/glow.min\"], function(){console.log(\"GLOW LOADED\");});}else{element.textContent = ' ';}",
      "text/plain": [
       "<IPython.core.display.Javascript object>"
      ]
     },
     "metadata": {},
     "output_type": "display_data"
    },
    {
     "data": {
      "application/javascript": "if (typeof Jupyter !== \"undefined\") {require([\"nbextensions/vpython_libraries/glowcomm\"], function(){console.log(\"GLOWCOMM LOADED\");});}else{element.textContent = ' ';}",
      "text/plain": [
       "<IPython.core.display.Javascript object>"
      ]
     },
     "metadata": {},
     "output_type": "display_data"
    },
    {
     "data": {
      "application/javascript": "if (typeof Jupyter !== \"undefined\") {require([\"nbextensions/vpython_libraries/jquery-ui.custom.min\"], function(){console.log(\"JQUERY LOADED\");});}else{element.textContent = ' ';}",
      "text/plain": [
       "<IPython.core.display.Javascript object>"
      ]
     },
     "metadata": {},
     "output_type": "display_data"
    },
    {
     "ename": "KeyboardInterrupt",
     "evalue": "",
     "output_type": "error",
     "traceback": [
      "\u001b[1;31m---------------------------------------------------------------------------\u001b[0m",
      "\u001b[1;31mKeyboardInterrupt\u001b[0m                         Traceback (most recent call last)",
      "Cell \u001b[1;32mIn[1], line 4\u001b[0m\n\u001b[0;32m      1\u001b[0m \u001b[38;5;28;01mfrom\u001b[39;00m \u001b[38;5;21;01mvpython\u001b[39;00m \u001b[38;5;28;01mimport\u001b[39;00m \u001b[38;5;241m*\u001b[39m\n\u001b[0;32m      3\u001b[0m \u001b[38;5;66;03m# Criar uma esfera simples\u001b[39;00m\n\u001b[1;32m----> 4\u001b[0m \u001b[43msphere\u001b[49m\u001b[43m(\u001b[49m\u001b[43m)\u001b[49m\n",
      "File \u001b[1;32m~\\AppData\\Roaming\\Python\\Python311\\site-packages\\vpython\\vpython.py:1172\u001b[0m, in \u001b[0;36msphere.__init__\u001b[1;34m(self, **args)\u001b[0m\n\u001b[0;32m   1170\u001b[0m args[\u001b[38;5;124m'\u001b[39m\u001b[38;5;124m_default_size\u001b[39m\u001b[38;5;124m'\u001b[39m] \u001b[38;5;241m=\u001b[39m vector(\u001b[38;5;241m2\u001b[39m,\u001b[38;5;241m2\u001b[39m,\u001b[38;5;241m2\u001b[39m)\n\u001b[0;32m   1171\u001b[0m args[\u001b[38;5;124m'\u001b[39m\u001b[38;5;124m_objName\u001b[39m\u001b[38;5;124m'\u001b[39m] \u001b[38;5;241m=\u001b[39m \u001b[38;5;124m\"\u001b[39m\u001b[38;5;124msphere\u001b[39m\u001b[38;5;124m\"\u001b[39m\n\u001b[1;32m-> 1172\u001b[0m \u001b[38;5;28;43msuper\u001b[39;49m\u001b[43m(\u001b[49m\u001b[43msphere\u001b[49m\u001b[43m,\u001b[49m\u001b[43m \u001b[49m\u001b[38;5;28;43mself\u001b[39;49m\u001b[43m)\u001b[49m\u001b[38;5;241;43m.\u001b[39;49m\u001b[43msetup\u001b[49m\u001b[43m(\u001b[49m\u001b[43margs\u001b[49m\u001b[43m)\u001b[49m\n\u001b[0;32m   1173\u001b[0m \u001b[38;5;28mself\u001b[39m\u001b[38;5;241m.\u001b[39m_sizing \u001b[38;5;241m=\u001b[39m \u001b[38;5;28;01mFalse\u001b[39;00m\n",
      "File \u001b[1;32m~\\AppData\\Roaming\\Python\\Python311\\site-packages\\vpython\\vpython.py:599\u001b[0m, in \u001b[0;36mstandardAttributes.setup\u001b[1;34m(self, args)\u001b[0m\n\u001b[0;32m    598\u001b[0m \u001b[38;5;28;01mdef\u001b[39;00m \u001b[38;5;21msetup\u001b[39m(\u001b[38;5;28mself\u001b[39m, args):\n\u001b[1;32m--> 599\u001b[0m     \u001b[38;5;28;43msuper\u001b[39;49m\u001b[43m(\u001b[49m\u001b[43mstandardAttributes\u001b[49m\u001b[43m,\u001b[49m\u001b[43m \u001b[49m\u001b[38;5;28;43mself\u001b[39;49m\u001b[43m)\u001b[49m\u001b[38;5;241;43m.\u001b[39;49m\u001b[38;5;21;43m__init__\u001b[39;49m\u001b[43m(\u001b[49m\u001b[43m)\u001b[49m\n\u001b[0;32m    600\u001b[0m     \u001b[38;5;28mself\u001b[39m\u001b[38;5;241m.\u001b[39m_constructing \u001b[38;5;241m=\u001b[39m \u001b[38;5;28;01mTrue\u001b[39;00m  \u001b[38;5;66;03m## calls to setters are from constructor\u001b[39;00m\n\u001b[0;32m    602\u001b[0m     objName \u001b[38;5;241m=\u001b[39m \u001b[38;5;28mself\u001b[39m\u001b[38;5;241m.\u001b[39m_objName \u001b[38;5;241m=\u001b[39m args[\u001b[38;5;124m'\u001b[39m\u001b[38;5;124m_objName\u001b[39m\u001b[38;5;124m'\u001b[39m]  \u001b[38;5;66;03m## identifies object type\u001b[39;00m\n",
      "File \u001b[1;32m~\\AppData\\Roaming\\Python\\Python311\\site-packages\\vpython\\vpython.py:257\u001b[0m, in \u001b[0;36mbaseObj.__init__\u001b[1;34m(self, **kwargs)\u001b[0m\n\u001b[0;32m    254\u001b[0m \u001b[38;5;28;01mif\u001b[39;00m \u001b[38;5;129;01mnot\u001b[39;00m (baseObj\u001b[38;5;241m.\u001b[39m_view_constructed \u001b[38;5;129;01mor\u001b[39;00m\n\u001b[0;32m    255\u001b[0m         baseObj\u001b[38;5;241m.\u001b[39m_canvas_constructing):\n\u001b[0;32m    256\u001b[0m     \u001b[38;5;28;01mif\u001b[39;00m _isnotebook:\n\u001b[1;32m--> 257\u001b[0m         \u001b[38;5;28;01mfrom\u001b[39;00m \u001b[38;5;21;01m.\u001b[39;00m\u001b[38;5;21;01mwith_notebook\u001b[39;00m \u001b[38;5;28;01mimport\u001b[39;00m _\n\u001b[0;32m    258\u001b[0m     \u001b[38;5;28;01melse\u001b[39;00m:\n\u001b[0;32m    259\u001b[0m         \u001b[38;5;28;01mfrom\u001b[39;00m \u001b[38;5;21;01m.\u001b[39;00m\u001b[38;5;21;01mno_notebook\u001b[39;00m \u001b[38;5;28;01mimport\u001b[39;00m _\n",
      "File \u001b[1;32m~\\AppData\\Roaming\\Python\\Python311\\site-packages\\vpython\\with_notebook.py:153\u001b[0m\n\u001b[0;32m    151\u001b[0m baseObj\u001b[38;5;241m.\u001b[39mglow \u001b[38;5;241m=\u001b[39m GlowWidget(wsport\u001b[38;5;241m=\u001b[39m__SOCKET_PORT, wsuri\u001b[38;5;241m=\u001b[39m\u001b[38;5;124m'\u001b[39m\u001b[38;5;124m/ws\u001b[39m\u001b[38;5;124m'\u001b[39m)\n\u001b[0;32m    152\u001b[0m \u001b[38;5;28;01mwhile\u001b[39;00m (\u001b[38;5;129;01mnot\u001b[39;00m wsConnected):\n\u001b[1;32m--> 153\u001b[0m     \u001b[43mtime\u001b[49m\u001b[38;5;241;43m.\u001b[39;49m\u001b[43msleep\u001b[49m\u001b[43m(\u001b[49m\u001b[38;5;241;43m0.1\u001b[39;49m\u001b[43m)\u001b[49m          \u001b[38;5;66;03m# wait for websocket to connect\u001b[39;00m\n\u001b[0;32m    155\u001b[0m baseObj\u001b[38;5;241m.\u001b[39mtrigger()  \u001b[38;5;66;03m# start the trigger ping-pong process\u001b[39;00m\n\u001b[0;32m    158\u001b[0m \u001b[38;5;66;03m# Same justification as above for removing the ipykernel check.\u001b[39;00m\n\u001b[0;32m    159\u001b[0m \u001b[38;5;66;03m# There was also an IPython version check for >=4, which was\u001b[39;00m\n\u001b[0;32m    160\u001b[0m \u001b[38;5;66;03m# released in Nov 2015. Ok to stop supporting in 2.019 I think.\u001b[39;00m\n",
      "\u001b[1;31mKeyboardInterrupt\u001b[0m: "
     ]
    }
   ],
   "source": [
    "from vpython import *\n",
    "\n",
    "# Criar uma esfera simples\n",
    "sphere()\n",
    "\n"
   ]
  }
 ],
 "metadata": {
  "kernelspec": {
   "display_name": "Python 3",
   "language": "python",
   "name": "python3"
  },
  "language_info": {
   "codemirror_mode": {
    "name": "ipython",
    "version": 3
   },
   "file_extension": ".py",
   "mimetype": "text/x-python",
   "name": "python",
   "nbconvert_exporter": "python",
   "pygments_lexer": "ipython3",
   "version": "3.11.2"
  }
 },
 "nbformat": 4,
 "nbformat_minor": 5
}
